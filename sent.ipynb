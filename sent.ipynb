{
 "cells": [
  {
   "cell_type": "code",
   "execution_count": 6,
   "id": "4a5aface",
   "metadata": {},
   "outputs": [],
   "source": [
    "import requests\n",
    "import pandas as pd\n",
    "from api_key import alpha_vantage"
   ]
  },
  {
   "cell_type": "code",
   "execution_count": 10,
   "id": "9f2b68d6",
   "metadata": {},
   "outputs": [
    {
     "name": "stderr",
     "output_type": "stream",
     "text": [
      "C:\\Users\\ROG\\AppData\\Local\\Temp\\ipykernel_16964\\2499348851.py:30: FutureWarning: DataFrame.fillna with 'method' is deprecated and will raise in a future version. Use obj.ffill() or obj.bfill() instead.\n",
      "  pivoted_sentiments = pivoted_sentiments.fillna(method='ffill').fillna(method='bfill')\n"
     ]
    },
    {
     "data": {
      "text/html": [
       "<div>\n",
       "<style scoped>\n",
       "    .dataframe tbody tr th:only-of-type {\n",
       "        vertical-align: middle;\n",
       "    }\n",
       "\n",
       "    .dataframe tbody tr th {\n",
       "        vertical-align: top;\n",
       "    }\n",
       "\n",
       "    .dataframe thead th {\n",
       "        text-align: right;\n",
       "    }\n",
       "</style>\n",
       "<table border=\"1\" class=\"dataframe\">\n",
       "  <thead>\n",
       "    <tr style=\"text-align: right;\">\n",
       "      <th>ticker</th>\n",
       "      <th>AAPL</th>\n",
       "      <th>AMZN</th>\n",
       "      <th>GOOG</th>\n",
       "      <th>MSFT</th>\n",
       "      <th>NFLX</th>\n",
       "    </tr>\n",
       "    <tr>\n",
       "      <th>date</th>\n",
       "      <th></th>\n",
       "      <th></th>\n",
       "      <th></th>\n",
       "      <th></th>\n",
       "      <th></th>\n",
       "    </tr>\n",
       "  </thead>\n",
       "  <tbody>\n",
       "    <tr>\n",
       "      <th>2025-04-03</th>\n",
       "      <td>0.108453</td>\n",
       "      <td>0.152113</td>\n",
       "      <td>0.250044</td>\n",
       "      <td>0.086048</td>\n",
       "      <td>0.213562</td>\n",
       "    </tr>\n",
       "    <tr>\n",
       "      <th>2025-04-04</th>\n",
       "      <td>0.108453</td>\n",
       "      <td>0.152113</td>\n",
       "      <td>0.250044</td>\n",
       "      <td>0.086048</td>\n",
       "      <td>0.321464</td>\n",
       "    </tr>\n",
       "    <tr>\n",
       "      <th>2025-04-05</th>\n",
       "      <td>0.108453</td>\n",
       "      <td>0.152113</td>\n",
       "      <td>0.250044</td>\n",
       "      <td>0.086048</td>\n",
       "      <td>0.215420</td>\n",
       "    </tr>\n",
       "    <tr>\n",
       "      <th>2025-04-06</th>\n",
       "      <td>0.108453</td>\n",
       "      <td>0.152113</td>\n",
       "      <td>0.250044</td>\n",
       "      <td>0.086048</td>\n",
       "      <td>0.280937</td>\n",
       "    </tr>\n",
       "    <tr>\n",
       "      <th>2025-04-07</th>\n",
       "      <td>0.108453</td>\n",
       "      <td>0.152113</td>\n",
       "      <td>0.250044</td>\n",
       "      <td>0.086048</td>\n",
       "      <td>0.262796</td>\n",
       "    </tr>\n",
       "  </tbody>\n",
       "</table>\n",
       "</div>"
      ],
      "text/plain": [
       "ticker          AAPL      AMZN      GOOG      MSFT      NFLX\n",
       "date                                                        \n",
       "2025-04-03  0.108453  0.152113  0.250044  0.086048  0.213562\n",
       "2025-04-04  0.108453  0.152113  0.250044  0.086048  0.321464\n",
       "2025-04-05  0.108453  0.152113  0.250044  0.086048  0.215420\n",
       "2025-04-06  0.108453  0.152113  0.250044  0.086048  0.280937\n",
       "2025-04-07  0.108453  0.152113  0.250044  0.086048  0.262796"
      ]
     },
     "execution_count": 10,
     "metadata": {},
     "output_type": "execute_result"
    }
   ],
   "source": [
    "from api_key import alpha_vantage\n",
    "\n",
    "stocks = ['AAPL', 'MSFT', 'AMZN', 'GOOG', 'NFLX']\n",
    "sentiment_df = []\n",
    "\n",
    "for stock in stocks:\n",
    "    url = f'https://www.alphavantage.co/query?function=NEWS_SENTIMENT&tickers={stock}&time_from=20150101T0130&apikey={alpha_vantage}'\n",
    "    response = requests.get(url)\n",
    "\n",
    "    if response.status_code == 200:\n",
    "        try:\n",
    "            news_feed = response.json()['feed']\n",
    "\n",
    "            stock_sentiments = [{\n",
    "                'date': item['time_published'][:4]+'-'+item['time_published'][4:6]+'-'+item['time_published'][6:8],\n",
    "                'ticker': stock,\n",
    "                'sentiment_score': float(item.get('overall_sentiment_score', 0))\n",
    "            } for item in news_feed]\n",
    "\n",
    "            df = pd.DataFrame(stock_sentiments)\n",
    "            sentiment_df.append(df)\n",
    "        except KeyError:\n",
    "            print(f'No sentiment found for {stock}')\n",
    "    else:\n",
    "        print(f'API error for {stock}: {response.status_code}')\n",
    "\n",
    "sentiment_data = pd.concat(sentiment_df)\n",
    "\n",
    "pivoted_sentiments = sentiment_data.pivot_table(index='date', columns='ticker', values='sentiment_score', aggfunc='mean')\n",
    "pivoted_sentiments = pivoted_sentiments.fillna(method='ffill').fillna(method='bfill')\n",
    "\n",
    "pivoted_sentiments.head()"
   ]
  },
  {
   "cell_type": "code",
   "execution_count": 11,
   "id": "8d0f5273",
   "metadata": {},
   "outputs": [],
   "source": [
    "pivoted_sentiments.to_csv('./data/sentiment_data.csv', index=True)"
   ]
  },
  {
   "cell_type": "code",
   "execution_count": null,
   "id": "542dfc68",
   "metadata": {},
   "outputs": [],
   "source": []
  }
 ],
 "metadata": {
  "kernelspec": {
   "display_name": "Python 3",
   "language": "python",
   "name": "python3"
  },
  "language_info": {
   "codemirror_mode": {
    "name": "ipython",
    "version": 3
   },
   "file_extension": ".py",
   "mimetype": "text/x-python",
   "name": "python",
   "nbconvert_exporter": "python",
   "pygments_lexer": "ipython3",
   "version": "3.12.0"
  }
 },
 "nbformat": 4,
 "nbformat_minor": 5
}
