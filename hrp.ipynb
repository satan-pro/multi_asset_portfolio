{
 "cells": [
  {
   "cell_type": "code",
   "execution_count": 1,
   "id": "02ab2a90",
   "metadata": {},
   "outputs": [],
   "source": [
    "import numpy as np\n",
    "import pandas as pd\n",
    "import matplotlib.pyplot as plt\n",
    "from sklearn.preprocessing import MinMaxScaler"
   ]
  },
  {
   "cell_type": "code",
   "execution_count": 2,
   "id": "ab333c8b",
   "metadata": {},
   "outputs": [],
   "source": [
    "df_sentiment = pd.read_csv('./data/sentiment_data.csv')\n",
    "df_regime = pd.read_csv('./data/pivot_regime.csv')\n",
    "df_returns = pd.read_csv('./data/pivot_returns.csv')"
   ]
  },
  {
   "cell_type": "code",
   "execution_count": 3,
   "id": "2d8caadc",
   "metadata": {},
   "outputs": [
    {
     "data": {
      "text/html": [
       "<div>\n",
       "<style scoped>\n",
       "    .dataframe tbody tr th:only-of-type {\n",
       "        vertical-align: middle;\n",
       "    }\n",
       "\n",
       "    .dataframe tbody tr th {\n",
       "        vertical-align: top;\n",
       "    }\n",
       "\n",
       "    .dataframe thead th {\n",
       "        text-align: right;\n",
       "    }\n",
       "</style>\n",
       "<table border=\"1\" class=\"dataframe\">\n",
       "  <thead>\n",
       "    <tr style=\"text-align: right;\">\n",
       "      <th></th>\n",
       "      <th>date</th>\n",
       "      <th>AAPL</th>\n",
       "      <th>AMZN</th>\n",
       "      <th>GOOG</th>\n",
       "      <th>MSFT</th>\n",
       "      <th>NFLX</th>\n",
       "    </tr>\n",
       "  </thead>\n",
       "  <tbody>\n",
       "    <tr>\n",
       "      <th>0</th>\n",
       "      <td>2025-04-03</td>\n",
       "      <td>0.108453</td>\n",
       "      <td>0.152113</td>\n",
       "      <td>0.250044</td>\n",
       "      <td>0.086048</td>\n",
       "      <td>0.213562</td>\n",
       "    </tr>\n",
       "    <tr>\n",
       "      <th>1</th>\n",
       "      <td>2025-04-04</td>\n",
       "      <td>0.108453</td>\n",
       "      <td>0.152113</td>\n",
       "      <td>0.250044</td>\n",
       "      <td>0.086048</td>\n",
       "      <td>0.321464</td>\n",
       "    </tr>\n",
       "    <tr>\n",
       "      <th>2</th>\n",
       "      <td>2025-04-05</td>\n",
       "      <td>0.108453</td>\n",
       "      <td>0.152113</td>\n",
       "      <td>0.250044</td>\n",
       "      <td>0.086048</td>\n",
       "      <td>0.215420</td>\n",
       "    </tr>\n",
       "    <tr>\n",
       "      <th>3</th>\n",
       "      <td>2025-04-06</td>\n",
       "      <td>0.108453</td>\n",
       "      <td>0.152113</td>\n",
       "      <td>0.250044</td>\n",
       "      <td>0.086048</td>\n",
       "      <td>0.280937</td>\n",
       "    </tr>\n",
       "    <tr>\n",
       "      <th>4</th>\n",
       "      <td>2025-04-07</td>\n",
       "      <td>0.108453</td>\n",
       "      <td>0.152113</td>\n",
       "      <td>0.250044</td>\n",
       "      <td>0.086048</td>\n",
       "      <td>0.262796</td>\n",
       "    </tr>\n",
       "  </tbody>\n",
       "</table>\n",
       "</div>"
      ],
      "text/plain": [
       "         date      AAPL      AMZN      GOOG      MSFT      NFLX\n",
       "0  2025-04-03  0.108453  0.152113  0.250044  0.086048  0.213562\n",
       "1  2025-04-04  0.108453  0.152113  0.250044  0.086048  0.321464\n",
       "2  2025-04-05  0.108453  0.152113  0.250044  0.086048  0.215420\n",
       "3  2025-04-06  0.108453  0.152113  0.250044  0.086048  0.280937\n",
       "4  2025-04-07  0.108453  0.152113  0.250044  0.086048  0.262796"
      ]
     },
     "execution_count": 3,
     "metadata": {},
     "output_type": "execute_result"
    }
   ],
   "source": [
    "df_sentiment.head()"
   ]
  },
  {
   "cell_type": "code",
   "execution_count": 5,
   "id": "6745ca10",
   "metadata": {},
   "outputs": [
    {
     "data": {
      "text/plain": [
       "2       0.001073\n",
       "3      -0.024641\n",
       "4       0.008879\n",
       "5      -0.003811\n",
       "6      -0.027140\n",
       "          ...   \n",
       "2508    0.011478\n",
       "2509    0.003176\n",
       "2510   -0.013242\n",
       "2511   -0.013263\n",
       "2512   -0.007058\n",
       "Name: Return, Length: 2511, dtype: float64"
      ]
     },
     "execution_count": 5,
     "metadata": {},
     "output_type": "execute_result"
    }
   ],
   "source": [
    "df_regime.dropna(inplace=True)\n",
    "returns = df_regime['Return']\n",
    "returns"
   ]
  },
  {
   "cell_type": "code",
   "execution_count": 6,
   "id": "9640f7b5",
   "metadata": {},
   "outputs": [],
   "source": [
    "df_sentiment.dropna(inplace=True)\n",
    "sentiment_scores = df_sentiment['api_sentiment_score']\n",
    "\n",
    "aligned_sentiment = np.interp(\n",
    "    np.linspace(0, 49, 2511),\n",
    "    np.arange(50),\n",
    "    sentiment_scores\n",
    ")\n",
    "\n",
    "scaler = MinMaxScaler()\n",
    "sentiment_scaled = scaler.fit_transform(aligned_sentiment.reshape(-1,1)).flatten()\n"
   ]
  },
  {
   "cell_type": "code",
   "execution_count": 7,
   "id": "4cca11ac",
   "metadata": {},
   "outputs": [
    {
     "data": {
      "text/plain": [
       "(2511,)"
      ]
     },
     "execution_count": 7,
     "metadata": {},
     "output_type": "execute_result"
    }
   ],
   "source": [
    "sentiment_scaled.shape"
   ]
  },
  {
   "cell_type": "code",
   "execution_count": 14,
   "id": "eb40a744",
   "metadata": {},
   "outputs": [
    {
     "data": {
      "text/html": [
       "<div>\n",
       "<style scoped>\n",
       "    .dataframe tbody tr th:only-of-type {\n",
       "        vertical-align: middle;\n",
       "    }\n",
       "\n",
       "    .dataframe tbody tr th {\n",
       "        vertical-align: top;\n",
       "    }\n",
       "\n",
       "    .dataframe thead th {\n",
       "        text-align: right;\n",
       "    }\n",
       "</style>\n",
       "<table border=\"1\" class=\"dataframe\">\n",
       "  <thead>\n",
       "    <tr style=\"text-align: right;\">\n",
       "      <th></th>\n",
       "      <th>Return</th>\n",
       "    </tr>\n",
       "  </thead>\n",
       "  <tbody>\n",
       "    <tr>\n",
       "      <th>2</th>\n",
       "      <td>0.000716</td>\n",
       "    </tr>\n",
       "    <tr>\n",
       "      <th>3</th>\n",
       "      <td>-0.016394</td>\n",
       "    </tr>\n",
       "    <tr>\n",
       "      <th>4</th>\n",
       "      <td>0.005884</td>\n",
       "    </tr>\n",
       "    <tr>\n",
       "      <th>5</th>\n",
       "      <td>-0.002515</td>\n",
       "    </tr>\n",
       "    <tr>\n",
       "      <th>6</th>\n",
       "      <td>-0.017845</td>\n",
       "    </tr>\n",
       "    <tr>\n",
       "      <th>...</th>\n",
       "      <td>...</td>\n",
       "    </tr>\n",
       "    <tr>\n",
       "      <th>2508</th>\n",
       "      <td>0.006644</td>\n",
       "    </tr>\n",
       "    <tr>\n",
       "      <th>2509</th>\n",
       "      <td>0.001841</td>\n",
       "    </tr>\n",
       "    <tr>\n",
       "      <th>2510</th>\n",
       "      <td>-0.007692</td>\n",
       "    </tr>\n",
       "    <tr>\n",
       "      <th>2511</th>\n",
       "      <td>-0.007717</td>\n",
       "    </tr>\n",
       "    <tr>\n",
       "      <th>2512</th>\n",
       "      <td>-0.004114</td>\n",
       "    </tr>\n",
       "  </tbody>\n",
       "</table>\n",
       "<p>2511 rows × 1 columns</p>\n",
       "</div>"
      ],
      "text/plain": [
       "        Return\n",
       "2     0.000716\n",
       "3    -0.016394\n",
       "4     0.005884\n",
       "5    -0.002515\n",
       "6    -0.017845\n",
       "...        ...\n",
       "2508  0.006644\n",
       "2509  0.001841\n",
       "2510 -0.007692\n",
       "2511 -0.007717\n",
       "2512 -0.004114\n",
       "\n",
       "[2511 rows x 1 columns]"
      ]
     },
     "execution_count": 14,
     "metadata": {},
     "output_type": "execute_result"
    }
   ],
   "source": [
    "sentiment_weighted_returns = returns * sentiment_scaled\n",
    "\n",
    "# Converting this to DataFrame\n",
    "sentiment_weighted_df = pd.DataFrame(sentiment_weighted_returns)\n",
    "sentiment_weighted_df"
   ]
  },
  {
   "cell_type": "code",
   "execution_count": 15,
   "id": "8783cb84",
   "metadata": {},
   "outputs": [],
   "source": [
    "# Market Regime filtering\n",
    "# Using only bullish regime for filtering (initially)\n",
    "bullish_dates = df_regime[df_regime['Market Regime']=='Bullish'].index\n",
    "filtered_returns = sentiment_weighted_df.loc[bullish_dates]"
   ]
  },
  {
   "cell_type": "code",
   "execution_count": 32,
   "id": "fdf847dd",
   "metadata": {},
   "outputs": [
    {
     "data": {
      "text/html": [
       "<div>\n",
       "<style scoped>\n",
       "    .dataframe tbody tr th:only-of-type {\n",
       "        vertical-align: middle;\n",
       "    }\n",
       "\n",
       "    .dataframe tbody tr th {\n",
       "        vertical-align: top;\n",
       "    }\n",
       "\n",
       "    .dataframe thead th {\n",
       "        text-align: right;\n",
       "    }\n",
       "</style>\n",
       "<table border=\"1\" class=\"dataframe\">\n",
       "  <thead>\n",
       "    <tr style=\"text-align: right;\">\n",
       "      <th></th>\n",
       "      <th>Return</th>\n",
       "    </tr>\n",
       "  </thead>\n",
       "  <tbody>\n",
       "    <tr>\n",
       "      <th>8</th>\n",
       "      <td>0.016802</td>\n",
       "    </tr>\n",
       "    <tr>\n",
       "      <th>10</th>\n",
       "      <td>0.016835</td>\n",
       "    </tr>\n",
       "    <tr>\n",
       "      <th>24</th>\n",
       "      <td>0.014313</td>\n",
       "    </tr>\n",
       "    <tr>\n",
       "      <th>44</th>\n",
       "      <td>0.010099</td>\n",
       "    </tr>\n",
       "    <tr>\n",
       "      <th>47</th>\n",
       "      <td>0.009212</td>\n",
       "    </tr>\n",
       "    <tr>\n",
       "      <th>...</th>\n",
       "      <td>...</td>\n",
       "    </tr>\n",
       "    <tr>\n",
       "      <th>2441</th>\n",
       "      <td>0.023910</td>\n",
       "    </tr>\n",
       "    <tr>\n",
       "      <th>2454</th>\n",
       "      <td>0.010494</td>\n",
       "    </tr>\n",
       "    <tr>\n",
       "      <th>2458</th>\n",
       "      <td>0.009017</td>\n",
       "    </tr>\n",
       "    <tr>\n",
       "      <th>2476</th>\n",
       "      <td>0.011680</td>\n",
       "    </tr>\n",
       "    <tr>\n",
       "      <th>2506</th>\n",
       "      <td>0.010853</td>\n",
       "    </tr>\n",
       "  </tbody>\n",
       "</table>\n",
       "<p>157 rows × 1 columns</p>\n",
       "</div>"
      ],
      "text/plain": [
       "        Return\n",
       "8     0.016802\n",
       "10    0.016835\n",
       "24    0.014313\n",
       "44    0.010099\n",
       "47    0.009212\n",
       "...        ...\n",
       "2441  0.023910\n",
       "2454  0.010494\n",
       "2458  0.009017\n",
       "2476  0.011680\n",
       "2506  0.010853\n",
       "\n",
       "[157 rows x 1 columns]"
      ]
     },
     "execution_count": 32,
     "metadata": {},
     "output_type": "execute_result"
    }
   ],
   "source": [
    "filtered_returns"
   ]
  },
  {
   "cell_type": "markdown",
   "id": "099ad6c9",
   "metadata": {},
   "source": [
    "## HRP Implementation"
   ]
  },
  {
   "cell_type": "code",
   "execution_count": 18,
   "id": "9b7b2bc6",
   "metadata": {},
   "outputs": [],
   "source": [
    "# Correltaion matrix -> distance matrix\n",
    "def correl_dist(corr):\n",
    "    return ((1 - corr) / 2.) ** 0.5"
   ]
  },
  {
   "cell_type": "code",
   "execution_count": 19,
   "id": "2b530933",
   "metadata": {},
   "outputs": [],
   "source": [
    "# Compute inverse portfolio weights\n",
    "def get_ivp(cov):\n",
    "    ivp = 1. / np.diag(cov)\n",
    "    ivp /= ivp.sum()\n",
    "    return ivp"
   ]
  },
  {
   "cell_type": "code",
   "execution_count": 20,
   "id": "1b26c8a5",
   "metadata": {},
   "outputs": [],
   "source": [
    "# Compute total variance of a given cluster\n",
    "def get_cluster_var(cov, cluster_items):\n",
    "    cov_ = cov.loc[cluster_items, cluster_items]\n",
    "    w_ = get_ivp(cov_).reshape(-1, 1)\n",
    "    return np.dot(np.dot(w_.T, cov_), w_)[0, 0]"
   ]
  },
  {
   "cell_type": "code",
   "execution_count": 21,
   "id": "9eee88f1",
   "metadata": {},
   "outputs": [],
   "source": [
    "# Reorder asset in quasi-diagonal form after hierarchical clustering\n",
    "def get_quasi_diag(link):\n",
    "    link = link.astype(int)\n",
    "    sort_ix = pd.Series([link[-1, 0], link[-1, 1]])\n",
    "    num_items = link[-1, 3]\n",
    "    while sort_ix.max() >= num_items:\n",
    "        sort_ix.index = range(0, sort_ix.shape[0] * 2, 2)\n",
    "        df0 = sort_ix[sort_ix >= num_items]\n",
    "        i = df0.index\n",
    "        j = df0.values - num_items\n",
    "        sort_ix[i] = link[j, 0]\n",
    "        df1 = pd.Series(link[j, 1], index=i + 1)\n",
    "        sort_ix = pd.concat([sort_ix, df1])\n",
    "        sort_ix = sort_ix.sort_index()\n",
    "    return sort_ix.tolist()\n"
   ]
  },
  {
   "cell_type": "code",
   "execution_count": 24,
   "id": "3361a2e2",
   "metadata": {},
   "outputs": [],
   "source": [
    "# Implement the full HRP algorithm\n",
    "from scipy.cluster.hierarchy import linkage, dendrogram\n",
    "from scipy.spatial.distance import squareform\n",
    "\n",
    "def get_hrp_weights(cov, corr):\n",
    "    dist = correl_dist(corr)\n",
    "    link = linkage(squareform(dist), 'single')\n",
    "    sort_ix = get_quasi_diag(link)\n",
    "    sorted_tickers = corr.index[sort_ix].tolist()\n",
    "\n",
    "    hrp = pd.Series(1, index=sorted_tickers)\n",
    "    clustered_items = [sorted_tickers]\n",
    "    while len(clustered_items) > 0:\n",
    "        clustered_items = [i[j:k] for i in clustered_items for j, k in ((0, len(i) // 2), (len(i) // 2, len(i))) if len(i) > 1]\n",
    "        for i in range(0, len(clustered_items), 2):\n",
    "            c_items0 = clustered_items[i]\n",
    "            c_items1 = clustered_items[i + 1]\n",
    "            var0 = get_cluster_var(cov, c_items0)\n",
    "            var1 = get_cluster_var(cov, c_items1)\n",
    "            alpha = 1 - var0 / (var0 + var1)\n",
    "            hrp[c_items0] *= alpha\n",
    "            hrp[c_items1] *= 1 - alpha\n",
    "    return hrp / hrp.sum()"
   ]
  },
  {
   "cell_type": "code",
   "execution_count": 33,
   "id": "5f658490",
   "metadata": {},
   "outputs": [],
   "source": [
    "# Compute HRP weights on filtered returns\n",
    "cov_matrix = filtered_returns.cov()\n",
    "corr_matrix = filtered_returns.corr()\n"
   ]
  },
  {
   "cell_type": "code",
   "execution_count": 34,
   "id": "1cde9a49",
   "metadata": {},
   "outputs": [
    {
     "data": {
      "text/html": [
       "<div>\n",
       "<style scoped>\n",
       "    .dataframe tbody tr th:only-of-type {\n",
       "        vertical-align: middle;\n",
       "    }\n",
       "\n",
       "    .dataframe tbody tr th {\n",
       "        vertical-align: top;\n",
       "    }\n",
       "\n",
       "    .dataframe thead th {\n",
       "        text-align: right;\n",
       "    }\n",
       "</style>\n",
       "<table border=\"1\" class=\"dataframe\">\n",
       "  <thead>\n",
       "    <tr style=\"text-align: right;\">\n",
       "      <th></th>\n",
       "      <th>Return</th>\n",
       "    </tr>\n",
       "  </thead>\n",
       "  <tbody>\n",
       "    <tr>\n",
       "      <th>Return</th>\n",
       "      <td>0.000029</td>\n",
       "    </tr>\n",
       "  </tbody>\n",
       "</table>\n",
       "</div>"
      ],
      "text/plain": [
       "          Return\n",
       "Return  0.000029"
      ]
     },
     "execution_count": 34,
     "metadata": {},
     "output_type": "execute_result"
    }
   ],
   "source": [
    "cov_matrix"
   ]
  },
  {
   "cell_type": "code",
   "execution_count": 35,
   "id": "06e60ce2",
   "metadata": {},
   "outputs": [
    {
     "data": {
      "text/html": [
       "<div>\n",
       "<style scoped>\n",
       "    .dataframe tbody tr th:only-of-type {\n",
       "        vertical-align: middle;\n",
       "    }\n",
       "\n",
       "    .dataframe tbody tr th {\n",
       "        vertical-align: top;\n",
       "    }\n",
       "\n",
       "    .dataframe thead th {\n",
       "        text-align: right;\n",
       "    }\n",
       "</style>\n",
       "<table border=\"1\" class=\"dataframe\">\n",
       "  <thead>\n",
       "    <tr style=\"text-align: right;\">\n",
       "      <th></th>\n",
       "      <th>Return</th>\n",
       "    </tr>\n",
       "  </thead>\n",
       "  <tbody>\n",
       "    <tr>\n",
       "      <th>Return</th>\n",
       "      <td>1.0</td>\n",
       "    </tr>\n",
       "  </tbody>\n",
       "</table>\n",
       "</div>"
      ],
      "text/plain": [
       "        Return\n",
       "Return     1.0"
      ]
     },
     "execution_count": 35,
     "metadata": {},
     "output_type": "execute_result"
    }
   ],
   "source": [
    "corr_matrix"
   ]
  },
  {
   "cell_type": "code",
   "execution_count": 36,
   "id": "f762b6f9",
   "metadata": {},
   "outputs": [
    {
     "ename": "ValueError",
     "evalue": "The number of observations cannot be determined on an empty distance matrix.",
     "output_type": "error",
     "traceback": [
      "\u001b[1;31m---------------------------------------------------------------------------\u001b[0m",
      "\u001b[1;31mValueError\u001b[0m                                Traceback (most recent call last)",
      "Cell \u001b[1;32mIn[36], line 1\u001b[0m\n\u001b[1;32m----> 1\u001b[0m weights \u001b[38;5;241m=\u001b[39m \u001b[43mget_hrp_weights\u001b[49m\u001b[43m(\u001b[49m\u001b[43mcov_matrix\u001b[49m\u001b[43m,\u001b[49m\u001b[43m \u001b[49m\u001b[43mcorr_matrix\u001b[49m\u001b[43m)\u001b[49m\n",
      "Cell \u001b[1;32mIn[24], line 7\u001b[0m, in \u001b[0;36mget_hrp_weights\u001b[1;34m(cov, corr)\u001b[0m\n\u001b[0;32m      5\u001b[0m \u001b[38;5;28;01mdef\u001b[39;00m \u001b[38;5;21mget_hrp_weights\u001b[39m(cov, corr):\n\u001b[0;32m      6\u001b[0m     dist \u001b[38;5;241m=\u001b[39m correl_dist(corr)\n\u001b[1;32m----> 7\u001b[0m     link \u001b[38;5;241m=\u001b[39m \u001b[43mlinkage\u001b[49m\u001b[43m(\u001b[49m\u001b[43msquareform\u001b[49m\u001b[43m(\u001b[49m\u001b[43mdist\u001b[49m\u001b[43m)\u001b[49m\u001b[43m,\u001b[49m\u001b[43m \u001b[49m\u001b[38;5;124;43m'\u001b[39;49m\u001b[38;5;124;43msingle\u001b[39;49m\u001b[38;5;124;43m'\u001b[39;49m\u001b[43m)\u001b[49m\n\u001b[0;32m      8\u001b[0m     sort_ix \u001b[38;5;241m=\u001b[39m get_quasi_diag(link)\n\u001b[0;32m      9\u001b[0m     sorted_tickers \u001b[38;5;241m=\u001b[39m corr\u001b[38;5;241m.\u001b[39mindex[sort_ix]\u001b[38;5;241m.\u001b[39mtolist()\n",
      "File \u001b[1;32mc:\\Users\\ROG\\AppData\\Local\\Programs\\Python\\Python312\\Lib\\site-packages\\scipy\\cluster\\hierarchy.py:1033\u001b[0m, in \u001b[0;36mlinkage\u001b[1;34m(y, method, metric, optimal_ordering)\u001b[0m\n\u001b[0;32m   1029\u001b[0m \u001b[38;5;28;01mif\u001b[39;00m \u001b[38;5;129;01mnot\u001b[39;00m xp\u001b[38;5;241m.\u001b[39mall(xp\u001b[38;5;241m.\u001b[39misfinite(y)):\n\u001b[0;32m   1030\u001b[0m     \u001b[38;5;28;01mraise\u001b[39;00m \u001b[38;5;167;01mValueError\u001b[39;00m(\u001b[38;5;124m\"\u001b[39m\u001b[38;5;124mThe condensed distance matrix must contain only \u001b[39m\u001b[38;5;124m\"\u001b[39m\n\u001b[0;32m   1031\u001b[0m                      \u001b[38;5;124m\"\u001b[39m\u001b[38;5;124mfinite values.\u001b[39m\u001b[38;5;124m\"\u001b[39m)\n\u001b[1;32m-> 1033\u001b[0m n \u001b[38;5;241m=\u001b[39m \u001b[38;5;28mint\u001b[39m(\u001b[43mdistance\u001b[49m\u001b[38;5;241;43m.\u001b[39;49m\u001b[43mnum_obs_y\u001b[49m\u001b[43m(\u001b[49m\u001b[43my\u001b[49m\u001b[43m)\u001b[49m)\n\u001b[0;32m   1034\u001b[0m method_code \u001b[38;5;241m=\u001b[39m _LINKAGE_METHODS[method]\n\u001b[0;32m   1036\u001b[0m y \u001b[38;5;241m=\u001b[39m np\u001b[38;5;241m.\u001b[39masarray(y)\n",
      "File \u001b[1;32mc:\\Users\\ROG\\AppData\\Local\\Programs\\Python\\Python312\\Lib\\site-packages\\scipy\\spatial\\distance.py:2605\u001b[0m, in \u001b[0;36mnum_obs_y\u001b[1;34m(Y)\u001b[0m\n\u001b[0;32m   2603\u001b[0m k \u001b[38;5;241m=\u001b[39m Y\u001b[38;5;241m.\u001b[39mshape[\u001b[38;5;241m0\u001b[39m]\n\u001b[0;32m   2604\u001b[0m \u001b[38;5;28;01mif\u001b[39;00m k \u001b[38;5;241m==\u001b[39m \u001b[38;5;241m0\u001b[39m:\n\u001b[1;32m-> 2605\u001b[0m     \u001b[38;5;28;01mraise\u001b[39;00m \u001b[38;5;167;01mValueError\u001b[39;00m(\u001b[38;5;124m\"\u001b[39m\u001b[38;5;124mThe number of observations cannot be determined on \u001b[39m\u001b[38;5;124m\"\u001b[39m\n\u001b[0;32m   2606\u001b[0m                      \u001b[38;5;124m\"\u001b[39m\u001b[38;5;124man empty distance matrix.\u001b[39m\u001b[38;5;124m\"\u001b[39m)\n\u001b[0;32m   2607\u001b[0m d \u001b[38;5;241m=\u001b[39m \u001b[38;5;28mint\u001b[39m(np\u001b[38;5;241m.\u001b[39mceil(np\u001b[38;5;241m.\u001b[39msqrt(k \u001b[38;5;241m*\u001b[39m \u001b[38;5;241m2\u001b[39m)))\n\u001b[0;32m   2608\u001b[0m \u001b[38;5;28;01mif\u001b[39;00m (d \u001b[38;5;241m*\u001b[39m (d \u001b[38;5;241m-\u001b[39m \u001b[38;5;241m1\u001b[39m) \u001b[38;5;241m/\u001b[39m \u001b[38;5;241m2\u001b[39m) \u001b[38;5;241m!=\u001b[39m k:\n",
      "\u001b[1;31mValueError\u001b[0m: The number of observations cannot be determined on an empty distance matrix."
     ]
    }
   ],
   "source": [
    "weights = get_hrp_weights(cov_matrix, corr_matrix)"
   ]
  },
  {
   "cell_type": "code",
   "execution_count": null,
   "id": "ecab9992",
   "metadata": {},
   "outputs": [],
   "source": []
  }
 ],
 "metadata": {
  "kernelspec": {
   "display_name": "Python 3",
   "language": "python",
   "name": "python3"
  },
  "language_info": {
   "codemirror_mode": {
    "name": "ipython",
    "version": 3
   },
   "file_extension": ".py",
   "mimetype": "text/x-python",
   "name": "python",
   "nbconvert_exporter": "python",
   "pygments_lexer": "ipython3",
   "version": "3.12.0"
  }
 },
 "nbformat": 4,
 "nbformat_minor": 5
}
